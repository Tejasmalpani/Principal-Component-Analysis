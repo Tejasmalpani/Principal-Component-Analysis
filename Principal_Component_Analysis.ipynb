{
  "nbformat": 4,
  "nbformat_minor": 0,
  "metadata": {
    "colab": {
      "name": "Principal Component Analysis.ipynb",
      "provenance": []
    },
    "kernelspec": {
      "name": "python3",
      "display_name": "Python 3"
    }
  },
  "cells": [
    {
      "cell_type": "code",
      "metadata": {
        "colab": {
          "base_uri": "https://localhost:8080/"
        },
        "id": "_9OdjpM8i1He",
        "outputId": "7d332ada-c015-4cc1-ec92-331684a16ef7"
      },
      "source": [
        "from numpy import array\n",
        "from numpy import mean\n",
        "from numpy import cov\n",
        "from numpy.linalg import eig\n",
        "import pandas as pd\n",
        "\n",
        "A = array([[2.5,2.4],\n",
        "           [0.5,0.7],\n",
        "           [2.2,2.9],\n",
        "           [1.9,2.2],\n",
        "           [3.1,3.0],\n",
        "           [2.3,2.7],\n",
        "           [2,1.6],\n",
        "           [1,1.1],\n",
        "           [1.5,1.6],\n",
        "           [1.1,0.9]])\n",
        "print(A)"
      ],
      "execution_count": 1,
      "outputs": [
        {
          "output_type": "stream",
          "text": [
            "[[2.5 2.4]\n",
            " [0.5 0.7]\n",
            " [2.2 2.9]\n",
            " [1.9 2.2]\n",
            " [3.1 3. ]\n",
            " [2.3 2.7]\n",
            " [2.  1.6]\n",
            " [1.  1.1]\n",
            " [1.5 1.6]\n",
            " [1.1 0.9]]\n"
          ],
          "name": "stdout"
        }
      ]
    },
    {
      "cell_type": "code",
      "metadata": {
        "colab": {
          "base_uri": "https://localhost:8080/"
        },
        "id": "tJxNj5kXjVjL",
        "outputId": "363e7f6a-8b62-42a5-9a8f-c293b6e1823f"
      },
      "source": [
        "M = mean(A.T, axis=1)\n",
        "print(M)"
      ],
      "execution_count": 2,
      "outputs": [
        {
          "output_type": "stream",
          "text": [
            "[1.81 1.91]\n"
          ],
          "name": "stdout"
        }
      ]
    },
    {
      "cell_type": "code",
      "metadata": {
        "colab": {
          "base_uri": "https://localhost:8080/"
        },
        "id": "lkVKOrtwjaN2",
        "outputId": "6b52b5d1-331c-4db4-dad8-992461453e7f"
      },
      "source": [
        "C = A - M\n",
        "print(C)"
      ],
      "execution_count": 3,
      "outputs": [
        {
          "output_type": "stream",
          "text": [
            "[[ 0.69  0.49]\n",
            " [-1.31 -1.21]\n",
            " [ 0.39  0.99]\n",
            " [ 0.09  0.29]\n",
            " [ 1.29  1.09]\n",
            " [ 0.49  0.79]\n",
            " [ 0.19 -0.31]\n",
            " [-0.81 -0.81]\n",
            " [-0.31 -0.31]\n",
            " [-0.71 -1.01]]\n"
          ],
          "name": "stdout"
        }
      ]
    },
    {
      "cell_type": "code",
      "metadata": {
        "id": "V0iRnW_Yjg9S"
      },
      "source": [
        ""
      ],
      "execution_count": null,
      "outputs": []
    },
    {
      "cell_type": "code",
      "metadata": {
        "colab": {
          "base_uri": "https://localhost:8080/"
        },
        "id": "dLY02aHVjlVv",
        "outputId": "340f7cdf-52e8-4045-fa1a-8d44d92baaf8"
      },
      "source": [
        "V = cov(C.T)\n",
        "print(V)"
      ],
      "execution_count": 4,
      "outputs": [
        {
          "output_type": "stream",
          "text": [
            "[[0.61655556 0.61544444]\n",
            " [0.61544444 0.71655556]]\n"
          ],
          "name": "stdout"
        }
      ]
    },
    {
      "cell_type": "code",
      "metadata": {
        "colab": {
          "base_uri": "https://localhost:8080/"
        },
        "id": "eCPZ_WIYjtcX",
        "outputId": "7e9e7d9f-1624-4ea7-9c39-a44404d0962f"
      },
      "source": [
        "values, vectors = eig(V)\n",
        "print(vectors)\n",
        "print(values)"
      ],
      "execution_count": 5,
      "outputs": [
        {
          "output_type": "stream",
          "text": [
            "[[-0.73517866 -0.6778734 ]\n",
            " [ 0.6778734  -0.73517866]]\n",
            "[0.0490834  1.28402771]\n"
          ],
          "name": "stdout"
        }
      ]
    },
    {
      "cell_type": "code",
      "metadata": {
        "colab": {
          "base_uri": "https://localhost:8080/"
        },
        "id": "FAAQvN1-juoO",
        "outputId": "85890854-bb87-4d15-9e70-31be70164e2e"
      },
      "source": [
        "P = vectors.T.dot(C.T)\n",
        "print(P.T)"
      ],
      "execution_count": 6,
      "outputs": [
        {
          "output_type": "stream",
          "text": [
            "[[-0.17511531 -0.82797019]\n",
            " [ 0.14285723  1.77758033]\n",
            " [ 0.38437499 -0.99219749]\n",
            " [ 0.13041721 -0.27421042]\n",
            " [-0.20949846 -1.67580142]\n",
            " [ 0.17528244 -0.9129491 ]\n",
            " [-0.3498247   0.09910944]\n",
            " [ 0.04641726  1.14457216]\n",
            " [ 0.01776463  0.43804614]\n",
            " [-0.16267529  1.22382056]]\n"
          ],
          "name": "stdout"
        }
      ]
    },
    {
      "cell_type": "code",
      "metadata": {
        "colab": {
          "base_uri": "https://localhost:8080/"
        },
        "id": "oC3r6809jznp",
        "outputId": "eece1574-377f-44a0-c682-09ade027c606"
      },
      "source": [
        "from sklearn.decomposition import PCA\n",
        "\n",
        "pca = PCA(2)\n",
        "pca.fit_transform(A)\n",
        "print(pca.components_)\n",
        "print(pca.explained_variance_)\n",
        "B = pca.transform(A)\n",
        "print(B)\n"
      ],
      "execution_count": 7,
      "outputs": [
        {
          "output_type": "stream",
          "text": [
            "[[-0.6778734  -0.73517866]\n",
            " [-0.73517866  0.6778734 ]]\n",
            "[1.28402771 0.0490834 ]\n",
            "[[-0.82797019 -0.17511531]\n",
            " [ 1.77758033  0.14285723]\n",
            " [-0.99219749  0.38437499]\n",
            " [-0.27421042  0.13041721]\n",
            " [-1.67580142 -0.20949846]\n",
            " [-0.9129491   0.17528244]\n",
            " [ 0.09910944 -0.3498247 ]\n",
            " [ 1.14457216  0.04641726]\n",
            " [ 0.43804614  0.01776463]\n",
            " [ 1.22382056 -0.16267529]]\n"
          ],
          "name": "stdout"
        }
      ]
    }
  ]
}